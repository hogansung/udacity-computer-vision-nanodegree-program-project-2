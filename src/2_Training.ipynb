{
 "cells": [
  {
   "cell_type": "markdown",
   "metadata": {},
   "source": [
    "# Computer Vision Nanodegree\n",
    "\n",
    "## Project: Image Captioning\n",
    "\n",
    "---\n",
    "\n",
    "In this notebook, you will train your CNN-RNN model.  \n",
    "\n",
    "You are welcome and encouraged to try out many different architectures and hyperparameters when searching for a good model.\n",
    "\n",
    "This does have the potential to make the project quite messy!  Before submitting your project, make sure that you clean up:\n",
    "- the code you write in this notebook.  The notebook should describe how to train a single CNN-RNN architecture, corresponding to your final choice of hyperparameters.  You should structure the notebook so that the reviewer can replicate your results by running the code in this notebook.  \n",
    "- the output of the code cell in **Step 2**.  The output should show the output obtained when training the model from scratch.\n",
    "\n",
    "This notebook **will be graded**.  \n",
    "\n",
    "Feel free to use the links below to navigate the notebook:\n",
    "- [Step 1](#step1): Training Setup\n",
    "- [Step 2](#step2): Train your Model\n",
    "- [Step 3](#step3): (Optional) Validate your Model"
   ]
  },
  {
   "cell_type": "markdown",
   "metadata": {},
   "source": [
    "<a id='step1'></a>\n",
    "## Step 1: Training Setup\n",
    "\n",
    "In this step of the notebook, you will customize the training of your CNN-RNN model by specifying hyperparameters and setting other options that are important to the training procedure.  The values you set now will be used when training your model in **Step 2** below.\n",
    "\n",
    "You should only amend blocks of code that are preceded by a `TODO` statement.  **Any code blocks that are not preceded by a `TODO` statement should not be modified**.\n",
    "\n",
    "### Task #1\n",
    "\n",
    "Begin by setting the following variables:\n",
    "- `batch_size` - the batch size of each training batch.  It is the number of image-caption pairs used to amend the model weights in each training step. \n",
    "- `vocab_threshold` - the minimum word count threshold.  Note that a larger threshold will result in a smaller vocabulary, whereas a smaller threshold will include rarer words and result in a larger vocabulary.  \n",
    "- `vocab_from_file` - a Boolean that decides whether to load the vocabulary from file. \n",
    "- `embed_size` - the dimensionality of the image and word embeddings.  \n",
    "- `hidden_size` - the number of features in the hidden state of the RNN decoder.  \n",
    "- `num_epochs` - the number of epochs to train the model.  We recommend that you set `num_epochs=3`, but feel free to increase or decrease this number as you wish.  [This paper](https://arxiv.org/pdf/1502.03044.pdf) trained a captioning model on a single state-of-the-art GPU for 3 days, but you'll soon see that you can get reasonable results in a matter of a few hours!  (_But of course, if you want your model to compete with current research, you will have to train for much longer._)\n",
    "- `save_every` - determines how often to save the model weights.  We recommend that you set `save_every=1`, to save the model weights after each epoch.  This way, after the `i`th epoch, the encoder and decoder weights will be saved in the `models/` folder as `encoder-i.pkl` and `decoder-i.pkl`, respectively.\n",
    "- `print_every` - determines how often to print the batch loss to the Jupyter notebook while training.  Note that you **will not** observe a monotonic decrease in the loss function while training - this is perfectly fine and completely expected!  You are encouraged to keep this at its default value of `100` to avoid clogging the notebook, but feel free to change it.\n",
    "- `log_file` - the name of the text file containing - for every step - how the loss and perplexity evolved during training.\n",
    "\n",
    "If you're not sure where to begin to set some of the values above, you can peruse [this paper](https://arxiv.org/pdf/1502.03044.pdf) and [this paper](https://arxiv.org/pdf/1411.4555.pdf) for useful guidance!  **To avoid spending too long on this notebook**, you are encouraged to consult these suggested research papers to obtain a strong initial guess for which hyperparameters are likely to work best.  Then, train a single model, and proceed to the next notebook (**3_Inference.ipynb**).  If you are unhappy with your performance, you can return to this notebook to tweak the hyperparameters (and/or the architecture in **model.py**) and re-train your model.\n",
    "\n",
    "### Question 1\n",
    "\n",
    "**Question:** Describe your CNN-RNN architecture in detail.  With this architecture in mind, how did you select the values of the variables in Task 1?  If you consulted a research paper detailing a successful implementation of an image captioning model, please provide the reference.\n",
    "\n",
    "**Answer:**\n",
    "- Trial A: Follow the paper [Show and Tell: A Neural Image Caption Generator](https://arxiv.org/pdf/1411.4555.pdf).\n",
    "- Trial B: Follow the paper [Show, Attend and Tell: Neural Image Caption\n",
    "Generation with Visual Attention](https://arxiv.org/pdf/1502.03044.pdf).\n",
    "\n",
    "\n",
    "### (Optional) Task #2\n",
    "\n",
    "Note that we have provided a recommended image transform `transform_train` for pre-processing the training images, but you are welcome (and encouraged!) to modify it as you wish.  When modifying this transform, keep in mind that:\n",
    "- the images in the dataset have varying heights and widths, and \n",
    "- if using a pre-trained model, you must perform the corresponding appropriate normalization.\n",
    "\n",
    "### Question 2\n",
    "\n",
    "**Question:** How did you select the transform in `transform_train`?  If you left the transform at its provided value, why do you think that it is a good choice for your CNN architecture?\n",
    "\n",
    "**Answer:** \n",
    "\n",
    "### Task #3\n",
    "\n",
    "Next, you will specify a Python list containing the learnable parameters of the model.  For instance, if you decide to make all weights in the decoder trainable, but only want to train the weights in the embedding layer of the encoder, then you should set `params` to something like:\n",
    "```\n",
    "params = list(decoder.parameters()) + list(encoder.embed.parameters()) \n",
    "```\n",
    "\n",
    "### Question 3\n",
    "\n",
    "**Question:** How did you select the trainable parameters of your architecture?  Why do you think this is a good choice?\n",
    "\n",
    "**Answer:**\n",
    "Given that ResNet is a pretrained image neural network, one can simply remove the last layer, add an additional full-connected layer, and only train the additonal layer. The reason why this would work is because full-connected layer itself always has the capacity to **transfer** what is captured in pretrained layers to the new task.\n",
    "\n",
    "### Task #4\n",
    "\n",
    "Finally, you will select an [optimizer](http://pytorch.org/docs/master/optim.html#torch.optim.Optimizer).\n",
    "\n",
    "### Question 4\n",
    "\n",
    "**Question:** How did you select the optimizer used to train your model?\n",
    "\n",
    "**Answer:** "
   ]
  },
  {
   "cell_type": "code",
   "execution_count": 1,
   "metadata": {},
   "outputs": [
    {
     "name": "stderr",
     "output_type": "stream",
     "text": [
      "[nltk_data] Downloading package punkt to /home/hogan/nltk_data...\n",
      "[nltk_data]   Package punkt is already up-to-date!\n"
     ]
    },
    {
     "name": "stdout",
     "output_type": "stream",
     "text": [
      "loading annotations into memory...\n",
      "Done (t=0.42s)\n",
      "creating index...\n",
      "index created!\n",
      "[0/414113] Tokenizing captions...\n",
      "[100000/414113] Tokenizing captions...\n",
      "[200000/414113] Tokenizing captions...\n",
      "[300000/414113] Tokenizing captions...\n",
      "[400000/414113] Tokenizing captions...\n",
      "Preparing data\n",
      "loading annotations into memory...\n"
     ]
    },
    {
     "name": "stderr",
     "output_type": "stream",
     "text": [
      "  0%|          | 1159/414113 [00:00<00:35, 11588.46it/s]"
     ]
    },
    {
     "name": "stdout",
     "output_type": "stream",
     "text": [
      "Done (t=0.39s)\n",
      "creating index...\n",
      "index created!\n"
     ]
    },
    {
     "name": "stderr",
     "output_type": "stream",
     "text": [
      "100%|██████████| 414113/414113 [00:35<00:00, 11626.01it/s]\n"
     ]
    }
   ],
   "source": [
    "import torch\n",
    "import torch.nn as nn\n",
    "from torchvision import transforms\n",
    "import sys\n",
    "sys.path.append('/opt/cocoapi/PythonAPI')\n",
    "from pycocotools.coco import COCO\n",
    "from data_loader_wrapper import DataLoaderWrapper\n",
    "from model import EncoderCNN, DecoderRNN\n",
    "import math\n",
    "import nltk\n",
    "\n",
    "%load_ext autoreload\n",
    "%autoreload 2\n",
    "\n",
    "nltk.download('punkt')\n",
    "\n",
    "## TODO #1: Select appropriate values for the Python variables below.\n",
    "batch_size = 128\n",
    "vocab_threshold = 5\n",
    "vocab_from_file = True\n",
    "embed_size = 512  # 512\n",
    "hidden_size = 512  # 512\n",
    "num_epochs = 1  # number of training epochs\n",
    "save_every = 1  # determines frequency of saving model weights\n",
    "print_every = 200  # determines window for printing average loss\n",
    "log_file = \"training_log.txt\"  # name of file with saved training loss and perplexity\n",
    "\n",
    "transform_train = transforms.Compose(\n",
    "    [\n",
    "        transforms.Resize(256),  # smaller edge of image resized to 256\n",
    "        transforms.RandomCrop(224),  # get 224x224 crop from random location\n",
    "        transforms.RandomHorizontalFlip(),  # horizontally flip image with probability=0.5\n",
    "        transforms.ToTensor(),  # convert the PIL Image to a tensor\n",
    "        transforms.Normalize(\n",
    "            (0.485, 0.456, 0.406),  # normalize image for pre-trained model\n",
    "            (0.229, 0.224, 0.225),\n",
    "        ),\n",
    "    ]\n",
    ")\n",
    "\n",
    "# Build data loader.\n",
    "data_loader_wrapper = DataLoaderWrapper(\n",
    "    transform=transform_train,\n",
    "    batch_size_for_training=batch_size,\n",
    "    vocab_threshold=vocab_threshold,\n",
    "    vocab_from_file=vocab_from_file,\n",
    "    num_workers=4,\n",
    ")\n",
    "\n",
    "# The size of the vocabulary.\n",
    "vocab_size = len(data_loader_wrapper.dataset_for_training.vocab)\n",
    "\n",
    "# Initialize the encoder and decoder. \n",
    "encoder = EncoderCNN(embed_size)\n",
    "decoder = DecoderRNN(embed_size, hidden_size, vocab_size)\n",
    "\n",
    "# Move models to GPU if CUDA is available. \n",
    "device = torch.device(\"cuda\" if torch.cuda.is_available() else \"cpu\")\n",
    "encoder.to(device)\n",
    "decoder.to(device)\n",
    "\n",
    "# Define the loss function. \n",
    "criterion = nn.CrossEntropyLoss().cuda() if torch.cuda.is_available() else nn.CrossEntropyLoss()\n",
    "criterion = nn.CrossEntropyLoss()  # overwrite it with cpu\n",
    "\n",
    "# TODO #3: Specify the learnable parameters of the model.\n",
    "params = list(encoder.embed.parameters()) + list(decoder.parameters())\n",
    "\n",
    "# TODO #4: Define the optimizer.\n",
    "optimizer = torch.optim.Adam(params, lr=0.001)\n",
    "\n",
    "# Set the total number of training steps per epoch.\n",
    "total_step = math.ceil(\n",
    "    len(data_loader_wrapper.dataset_for_training.caption_lengths)\n",
    "    / data_loader_wrapper.dataset_for_training.batch_size\n",
    ")"
   ]
  },
  {
   "cell_type": "markdown",
   "metadata": {},
   "source": [
    "<a id='step2'></a>\n",
    "## Step 2: Train your Model\n",
    "\n",
    "Once you have executed the code cell in **Step 1**, the training procedure below should run without issue.  \n",
    "\n",
    "It is completely fine to leave the code cell below as-is without modifications to train your model.  However, if you would like to modify the code used to train the model below, you must ensure that your changes are easily parsed by your reviewer.  In other words, make sure to provide appropriate comments to describe how your code works!  \n",
    "\n",
    "You may find it useful to load saved weights to resume training.  In that case, note the names of the files containing the encoder and decoder weights that you'd like to load (`encoder_file` and `decoder_file`).  Then you can load the weights by using the lines below:\n",
    "\n",
    "```python\n",
    "# Load pre-trained weights before resuming training.\n",
    "encoder.load_state_dict(torch.load(os.path.join('../models', encoder_file)))\n",
    "decoder.load_state_dict(torch.load(os.path.join('../models', decoder_file)))\n",
    "```\n",
    "\n",
    "While trying out parameters, make sure to take extensive notes and record the settings that you used in your various training runs.  In particular, you don't want to encounter a situation where you've trained a model for several hours but can't remember what settings you used :).\n",
    "\n",
    "### A Note on Tuning Hyperparameters\n",
    "\n",
    "To figure out how well your model is doing, you can look at how the training loss and perplexity evolve during training - and for the purposes of this project, you are encouraged to amend the hyperparameters based on this information.  \n",
    "\n",
    "However, this will not tell you if your model is overfitting to the training data, and, unfortunately, overfitting is a problem that is commonly encountered when training image captioning models.  \n",
    "\n",
    "For this project, you need not worry about overfitting. **This project does not have strict requirements regarding the performance of your model**, and you just need to demonstrate that your model has learned **_something_** when you generate captions on the test data.  For now, we strongly encourage you to train your model for the suggested 3 epochs without worrying about performance; then, you should immediately transition to the next notebook in the sequence (**3_Inference.ipynb**) to see how your model performs on the test data.  If your model needs to be changed, you can come back to this notebook, amend hyperparameters (if necessary), and re-train the model.\n",
    "\n",
    "That said, if you would like to go above and beyond in this project, you can read about some approaches to minimizing overfitting in section 4.3.1 of [this paper](http://ieeexplore.ieee.org/stamp/stamp.jsp?arnumber=7505636).  In the next (optional) step of this notebook, we provide some guidance for assessing the performance on the validation dataset."
   ]
  },
  {
   "cell_type": "code",
   "execution_count": 2,
   "metadata": {},
   "outputs": [
    {
     "name": "stdout",
     "output_type": "stream",
     "text": [
      "Epoch [1/1], Step [200/3236], Loss: 3.7953, Perplexity: 44.4924\n",
      "Epoch [1/1], Step [400/3236], Loss: 3.1041, Perplexity: 22.28900\n",
      "Epoch [1/1], Step [600/3236], Loss: 2.8143, Perplexity: 16.6822\n",
      "Epoch [1/1], Step [800/3236], Loss: 2.5711, Perplexity: 13.0803\n",
      "Epoch [1/1], Step [1000/3236], Loss: 2.5194, Perplexity: 12.4209\n",
      "Epoch [1/1], Step [1200/3236], Loss: 2.3892, Perplexity: 10.9044\n",
      "Epoch [1/1], Step [1400/3236], Loss: 2.4114, Perplexity: 11.1495\n",
      "Epoch [1/1], Step [1600/3236], Loss: 2.3792, Perplexity: 10.79660\n",
      "Epoch [1/1], Step [1800/3236], Loss: 2.5497, Perplexity: 12.8028\n",
      "Epoch [1/1], Step [2000/3236], Loss: 2.5518, Perplexity: 12.8303\n",
      "Epoch [1/1], Step [2200/3236], Loss: 2.2863, Perplexity: 9.83826\n",
      "Epoch [1/1], Step [2400/3236], Loss: 2.1986, Perplexity: 9.01275\n",
      "Epoch [1/1], Step [2600/3236], Loss: 2.1558, Perplexity: 8.63485\n",
      "Epoch [1/1], Step [2800/3236], Loss: 2.1361, Perplexity: 8.466320\n",
      "Epoch [1/1], Step [3000/3236], Loss: 2.9242, Perplexity: 18.6191\n",
      "Epoch [1/1], Step [3200/3236], Loss: 2.0351, Perplexity: 7.65290\n",
      "Epoch [1/1], Step [3236/3236], Loss: 2.0785, Perplexity: 7.99246"
     ]
    }
   ],
   "source": [
    "import torch.utils.data as data\n",
    "import numpy as np\n",
    "import os\n",
    "\n",
    "# Open the training log file.\n",
    "f = open(log_file, 'w')\n",
    "\n",
    "for epoch in range(1, num_epochs+1):\n",
    "    \n",
    "    for i_step in range(1, total_step+1):\n",
    "        \n",
    "        # Obtain the batch.\n",
    "        images, captions = next(\n",
    "            iter(data_loader_wrapper.get_data_loader_for_training())\n",
    "        )\n",
    "\n",
    "        # Move batch of images and captions to GPU if CUDA is available.\n",
    "        images = images.to(device)\n",
    "        captions = captions.to(device)\n",
    "        \n",
    "        # Zero the gradients.\n",
    "        decoder.zero_grad()\n",
    "        encoder.zero_grad()\n",
    "        \n",
    "        # Pass the inputs through the CNN-RNN model.\n",
    "        features = encoder(images).unsqueeze(1)\n",
    "        outputs = decoder(features, captions)\n",
    "        \n",
    "        # Calculate the batch loss.\n",
    "        loss = criterion(outputs.view(-1, vocab_size), captions.view(-1))\n",
    "        \n",
    "        # Backward pass.\n",
    "        loss.backward()\n",
    "        \n",
    "        # Update the parameters in the optimizer.\n",
    "        optimizer.step()\n",
    "            \n",
    "        # Get training statistics.\n",
    "        stats = (\n",
    "            f\"Epoch [{epoch}/{num_epochs}], \"\n",
    "            f\"Step [{i_step}/{total_step}], \"\n",
    "            f\"Loss: {loss.item():.4f}, \"\n",
    "            f\"Perplexity: {np.exp(loss.item()):5.4f}\"\n",
    "        )\n",
    "        \n",
    "        # Print training statistics (on same line).\n",
    "        print('\\r' + stats, end=\"\")\n",
    "        sys.stdout.flush()\n",
    "        \n",
    "        # Print training statistics to file.\n",
    "        f.write(stats + '\\n')\n",
    "        f.flush()\n",
    "        \n",
    "        # Print training statistics (on different line).\n",
    "        if i_step % print_every == 0:\n",
    "            print('\\r' + stats)\n",
    "            \n",
    "    # Save the weights.\n",
    "    if epoch % save_every == 0:\n",
    "        torch.save(decoder.state_dict(), os.path.join('../models', 'decoder-%d.pkl' % epoch))\n",
    "        torch.save(encoder.state_dict(), os.path.join('../models', 'encoder-%d.pkl' % epoch))\n",
    "\n",
    "# Close the training log file.\n",
    "f.close()"
   ]
  },
  {
   "cell_type": "markdown",
   "metadata": {},
   "source": [
    "<a id='step3'></a>\n",
    "## Step 3: (Optional) Validate your Model\n",
    "\n",
    "To assess potential overfitting, one approach is to assess performance on a validation set.  If you decide to do this **optional** task, you are required to first complete all of the steps in the next notebook in the sequence (**3_Inference.ipynb**); as part of that notebook, you will write and test code (specifically, the `sample` method in the `DecoderRNN` class) that uses your RNN decoder to generate captions.  That code will prove incredibly useful here. \n",
    "\n",
    "If you decide to validate your model, please do not edit the data loader in **data_loader.py**.  Instead, create a new file named **data_loader_val.py** containing the code for obtaining the data loader for the validation data.  You can access:\n",
    "- the validation images at filepath `'/opt/cocoapi/images/train2014/'`, and\n",
    "- the validation image caption annotation file at filepath `'/opt/cocoapi/annotations/captions_val2014.json'`.\n",
    "\n",
    "The suggested approach to validating your model involves creating a json file such as [this one](https://github.com/cocodataset/cocoapi/blob/master/results/captions_val2014_fakecap_results.json) containing your model's predicted captions for the validation images.  Then, you can write your own script or use one that you [find online](https://github.com/tylin/coco-caption) to calculate the BLEU score of your model.  You can read more about the BLEU score, along with other evaluation metrics (such as TEOR and Cider) in section 4.1 of [this paper](https://arxiv.org/pdf/1411.4555.pdf).  For more information about how to use the annotation file, check out the [website](http://cocodataset.org/#download) for the COCO dataset."
   ]
  },
  {
   "cell_type": "code",
   "execution_count": 3,
   "metadata": {},
   "outputs": [
    {
     "data": {
      "text/plain": [
       "DecoderRNN(\n",
       "  (word_embeddings): Embedding(8852, 512)\n",
       "  (lstm): LSTM(512, 512, batch_first=True)\n",
       "  (fc): Linear(in_features=512, out_features=8852, bias=True)\n",
       ")"
      ]
     },
     "execution_count": 3,
     "metadata": {},
     "output_type": "execute_result"
    }
   ],
   "source": [
    "import os\n",
    "encoder = EncoderCNN(embed_size)\n",
    "encoder.eval()\n",
    "decoder = DecoderRNN(embed_size, hidden_size, vocab_size)\n",
    "decoder.eval()\n",
    "encoder.load_state_dict(torch.load(os.path.join('../models', \"encoder-1.pkl\")))\n",
    "decoder.load_state_dict(torch.load(os.path.join('../models', \"decoder-1.pkl\")))\n",
    "encoder.to(device)\n",
    "decoder.to(device)"
   ]
  },
  {
   "cell_type": "code",
   "execution_count": 4,
   "metadata": {},
   "outputs": [],
   "source": [
    "def clean_sentence(token_ids):\n",
    "    return \" \".join(\n",
    "        [\n",
    "            data_loader_wrapper.dataset_for_training.vocab.idx2word[token_id]\n",
    "            for token_id in token_ids\n",
    "        ]\n",
    "    )"
   ]
  },
  {
   "cell_type": "code",
   "execution_count": 5,
   "metadata": {},
   "outputs": [
    {
     "name": "stdout",
     "output_type": "stream",
     "text": [
      "torch.Size([128, 3, 224, 224])\n",
      "tensor([   0, 2220, 1205,   21, 1330,   86,  147,  654,   86,  604,   86,  783,\n",
      "           6,  409,  737,    1])\n"
     ]
    }
   ],
   "source": [
    "# (Optional) TODO: Validate your model.\n",
    "\n",
    "images, captions = next(\n",
    "    iter(data_loader_wrapper.get_data_loader_for_training())\n",
    ")\n",
    "print(images.shape)\n",
    "print(captions[6])"
   ]
  },
  {
   "cell_type": "code",
   "execution_count": 20,
   "metadata": {},
   "outputs": [
    {
     "name": "stdout",
     "output_type": "stream",
     "text": [
      "<start> a vase filled with flowers and a vase of flowers . <end> <end> <end> <end> . <end> <end> <end>\n",
      "<start> two vases sitting on top of a wooden table next to each other . <end>\n"
     ]
    }
   ],
   "source": [
    "img = images[8].unsqueeze(0).to(device)\n",
    "features = encoder(img).unsqueeze(1)\n",
    "token_ids = decoder.sample(features)\n",
    "print(clean_sentence(token_ids))\n",
    "print(clean_sentence(captions[8].numpy()))"
   ]
  },
  {
   "cell_type": "code",
   "execution_count": 28,
   "metadata": {},
   "outputs": [
    {
     "name": "stdout",
     "output_type": "stream",
     "text": [
      "hidden tensor([[[-1.8277e-05,  4.5088e-15,  7.6159e-01, -7.6066e-01,  7.6159e-01,\n",
      "           7.6005e-01,  7.6083e-01,  7.6116e-01,  7.6159e-01,  3.1281e-04,\n",
      "           7.6077e-01, -7.6129e-01,  2.3486e-06, -7.6112e-01, -7.6159e-01,\n",
      "          -7.6151e-01,  5.5457e-10,  7.6159e-01,  1.8201e-10,  7.6156e-01,\n",
      "          -7.6159e-01,  7.6147e-01, -7.6159e-01, -7.6135e-01,  7.6159e-01,\n",
      "          -7.6159e-01,  7.6159e-01,  7.6158e-01, -7.6159e-01, -7.6147e-01,\n",
      "           7.6159e-01,  7.6159e-01,  7.6151e-01, -7.6127e-01, -7.6011e-01,\n",
      "          -7.6159e-01,  7.6156e-01, -7.6101e-01,  7.6159e-01,  7.6158e-01,\n",
      "          -7.6034e-01,  7.6158e-01, -7.6159e-01, -7.6157e-01, -7.6141e-01,\n",
      "           7.6159e-01,  7.6159e-01,  7.6137e-01, -7.6159e-01,  5.2241e-04,\n",
      "           5.3630e-06,  7.6159e-01,  7.6159e-01,  7.6129e-01,  7.6159e-01,\n",
      "          -7.6158e-01, -7.6159e-01, -8.4359e-08,  7.6126e-01,  7.6159e-01,\n",
      "          -7.6159e-01,  7.6159e-01,  7.6088e-01,  6.1660e-07]]],\n",
      "       grad_fn=<StackBackward>)\n",
      "internal tensor([[[-4.2760e-04,  9.9747e-01,  9.9999e-01, -9.9999e-01,  1.0000e+00,\n",
      "           9.9998e-01,  1.0000e+00,  1.0000e+00,  1.0000e+00,  3.1281e-04,\n",
      "           9.9999e-01, -1.0000e+00,  1.0000e+00, -1.0000e+00, -1.0000e+00,\n",
      "          -9.9981e-01,  1.0000e+00,  1.0000e+00,  9.9993e-01,  1.0000e+00,\n",
      "          -1.0000e+00,  9.9998e-01, -1.0000e+00, -9.9942e-01,  9.9999e-01,\n",
      "          -1.0000e+00,  1.0000e+00,  9.9997e-01, -1.0000e+00, -9.9972e-01,\n",
      "           1.0000e+00,  9.9999e-01,  1.0000e+00, -9.9922e-01, -1.0000e+00,\n",
      "          -1.0000e+00,  9.9992e-01, -1.0000e+00,  1.0000e+00,  9.9996e-01,\n",
      "          -9.9702e-01,  9.9998e-01, -1.0000e+00, -1.0000e+00, -1.0000e+00,\n",
      "           1.0000e+00,  1.0000e+00,  9.9997e-01, -1.0000e+00,  5.2290e-04,\n",
      "           6.2911e-06,  1.0000e+00,  1.0000e+00,  9.9928e-01,  1.0000e+00,\n",
      "          -1.0000e+00, -9.9999e-01, -8.4360e-08,  1.0000e+00,  1.0000e+00,\n",
      "          -1.0000e+00,  1.0000e+00,  1.0000e+00,  1.0000e+00]]],\n",
      "       grad_fn=<StackBackward>)\n",
      "embeddings tensor([[0]]) tensor([[[ 2.3178,  1.7878,  0.4475, -1.4249,  0.7946, -1.9748, -0.8254,\n",
      "          -0.0105,  1.5910,  0.5599,  0.7283,  2.5698, -1.0109, -0.8233,\n",
      "          -0.7270,  1.6354,  0.9786, -0.0313,  1.1659,  0.9264,  1.1922,\n",
      "           0.9289,  0.4958, -1.5080,  0.3083,  0.5233,  1.0539,  2.6296,\n",
      "           0.1917,  0.6421, -1.4850, -0.5613,  0.4406,  0.8273,  0.3840,\n",
      "          -1.9492, -1.8440, -0.4928,  1.5483,  0.0415, -0.2273, -1.7017,\n",
      "          -1.1997, -0.1574,  0.3609,  0.3304, -1.5009, -0.7059, -0.5157,\n",
      "          -1.4439, -0.3442,  2.8472,  0.8393,  1.2288, -0.6930,  0.8061,\n",
      "           0.4249, -0.8195, -1.2973,  0.8301, -1.3107,  1.3772,  0.6378,\n",
      "           0.1334]]], grad_fn=<EmbeddingBackward>)\n",
      "hidden tensor([[[ 0.7573,  0.0735,  0.9594, -0.9418,  0.3182,  0.9564,  0.0613,\n",
      "           0.0019,  0.9448,  0.7455,  0.2522, -0.9428,  0.9592, -0.8809,\n",
      "           0.7203, -0.7886,  0.9581,  0.5486,  0.9549,  0.9597, -0.9038,\n",
      "           0.8701, -0.9597,  0.7194,  0.6837, -0.9270,  0.9519,  0.7491,\n",
      "          -0.9524, -0.9266,  0.8865, -0.7298,  0.0315, -0.9431, -0.9464,\n",
      "          -0.7641, -0.3180, -0.9570,  0.9559,  0.9584, -0.9499, -0.7331,\n",
      "          -0.0361, -0.7677, -0.9261,  0.9352,  0.9609,  0.9276, -0.8953,\n",
      "           0.7410,  0.7556,  0.9407,  0.9425, -0.7596,  0.8958, -0.9482,\n",
      "          -0.9575, -0.0684,  0.9552,  0.9398,  0.7220, -0.7589,  0.9632,\n",
      "           0.9530]]], grad_fn=<StackBackward>)\n",
      "internal tensor([[[ 0.9949,  1.3416,  1.9493, -1.8079,  1.8554,  1.9526,  1.6089,\n",
      "           1.9041,  1.9256,  0.9631,  1.7024, -1.9678,  1.9694, -1.9511,\n",
      "           0.9745, -1.8750,  1.9427,  1.9341,  1.9454,  1.9754, -1.9354,\n",
      "           1.5057, -1.9598,  0.9073,  1.9489, -1.9603,  1.9108,  0.9713,\n",
      "          -1.9517, -1.6436,  1.9354, -0.9438,  1.9662, -1.7667, -1.9052,\n",
      "          -1.6839, -0.3299, -1.9129,  1.9098,  1.9525, -1.9583, -0.9699,\n",
      "          -1.9103, -1.9209, -1.9381,  1.9464,  1.9630,  1.9630, -1.9035,\n",
      "           0.9537,  0.9897,  1.9370,  1.9665, -0.9953,  1.9562, -1.9693,\n",
      "          -1.9175, -0.9557,  1.9687,  1.9560,  0.9143, -0.9949,  1.9914,\n",
      "           1.9554]]], grad_fn=<StackBackward>)\n",
      "embeddings tensor([[47]]) tensor([[[-2.5532, -0.9676, -0.1182, -0.8998, -0.2036,  0.6935, -0.7535,\n",
      "          -0.2138,  0.8769, -0.2797, -0.8591, -1.3373,  0.6787,  2.7284,\n",
      "          -1.4981,  1.2373,  1.0305, -1.1084, -0.3731, -1.5195,  1.5100,\n",
      "          -0.4333,  0.8283,  0.6184, -0.7392, -0.0382,  0.4992,  1.1290,\n",
      "           0.9534,  0.1470, -2.5775, -0.5977,  1.0817, -0.6273, -0.7375,\n",
      "           1.5866, -0.0789, -0.0915, -1.2246,  2.2898, -0.2474, -1.1227,\n",
      "           0.8593, -1.1558, -1.0478,  0.1107, -1.3532, -1.2100,  0.1068,\n",
      "          -0.7757, -1.7903, -0.0471, -0.1207,  0.6919,  1.7242, -0.9542,\n",
      "          -0.4210, -0.4522, -1.2874,  1.8843,  2.8459, -0.9066,  0.8109,\n",
      "          -1.7987]]], grad_fn=<EmbeddingBackward>)\n",
      "hidden tensor([[[ 0.0201,  0.1093,  0.9665, -0.7830,  0.9785,  0.0325,  0.1921,\n",
      "           0.9746,  0.5714,  0.9411,  0.9639, -0.9190,  0.0424, -0.0351,\n",
      "           0.9339, -0.9766, -0.7233,  0.9880,  0.9727,  0.1083, -0.1952,\n",
      "           0.9134, -0.9881, -0.7270,  0.9852, -0.0068,  0.9831,  0.9579,\n",
      "          -0.8742,  0.0436,  0.0169,  0.0556,  0.9792, -0.9635, -0.7708,\n",
      "          -0.8345, -0.8280, -0.1229,  0.1012,  0.9541, -0.9934, -0.7960,\n",
      "          -0.9908, -0.9649, -0.0288,  0.9038,  0.0258,  0.4496, -0.9778,\n",
      "          -0.7191,  0.2259,  0.9640,  0.0389,  0.7467,  0.7419, -0.0180,\n",
      "           0.6871, -0.0391,  0.6723,  0.9123,  0.9373, -0.9290, -0.7044,\n",
      "           0.9194]]], grad_fn=<StackBackward>)\n",
      "internal tensor([[[ 1.6672,  2.1481,  2.8153, -2.2012,  2.6941,  2.8380,  2.3278,\n",
      "           2.8375,  2.5476,  1.7500,  2.5092, -2.6717,  2.6389, -2.8008,\n",
      "           1.6974, -2.8051, -0.9284,  2.8311,  2.8209,  2.6215, -2.6216,\n",
      "           1.6932, -2.7743, -0.9226,  2.8533, -2.5323,  2.7642,  1.9219,\n",
      "          -2.7120,  0.2873,  1.9857,  0.0557,  2.9421, -1.9963, -2.6945,\n",
      "          -2.5378, -1.2959, -2.7942,  2.8829,  2.8472, -2.9033, -1.9056,\n",
      "          -2.8210, -2.8270, -2.6388,  2.4678,  2.8326,  2.8704, -2.5406,\n",
      "          -0.9149,  1.5011,  2.8810,  2.8941,  0.9656,  2.6237, -2.6658,\n",
      "           0.8428, -1.8447,  2.8259,  2.6996,  1.7307, -1.6574, -0.8813,\n",
      "           2.8330]]], grad_fn=<StackBackward>)\n",
      "embeddings tensor([[48]]) tensor([[[ 5.0467e-01,  1.1088e+00, -7.9418e-01, -2.3196e-01,  1.8078e+00,\n",
      "           3.6424e-01, -5.7199e-01,  8.5855e-01,  3.8184e-01,  1.7175e+00,\n",
      "           4.5332e-02, -8.5512e-01, -1.5183e+00, -5.5590e-01, -1.4817e+00,\n",
      "           1.2995e+00,  2.3181e+00,  4.5902e-02,  2.6836e-01,  1.1507e-01,\n",
      "          -6.7648e-01, -1.2236e+00,  1.5587e+00,  7.9660e-01, -1.2841e+00,\n",
      "          -1.8259e+00,  4.0087e-03, -9.8395e-01,  1.2354e+00,  1.8631e+00,\n",
      "           2.0303e-01,  6.1318e-01, -7.6291e-01, -2.5536e-03,  2.4212e-01,\n",
      "          -2.0213e-01, -8.4454e-01, -1.3453e-02,  1.8061e-01,  3.5157e-01,\n",
      "          -1.5040e+00, -3.4519e-01, -9.2848e-01,  1.3058e+00, -1.0478e+00,\n",
      "           4.2554e-01, -5.2764e-02,  6.9060e-01, -1.0062e+00,  6.9188e-01,\n",
      "          -1.1773e+00,  9.9509e-01, -1.2493e+00,  1.0332e+00, -1.7721e+00,\n",
      "           5.8531e-01,  2.6846e+00,  5.7895e-01, -5.0992e-01, -3.1813e+00,\n",
      "           4.7672e-01,  8.1096e-01,  7.5843e-01, -1.8765e+00]]],\n",
      "       grad_fn=<EmbeddingBackward>)\n",
      "hidden tensor([[[ 0.9869,  0.9699,  0.9119, -0.9259,  0.0677,  0.8892,  0.9393,\n",
      "           0.9390,  0.9529, -0.6596,  0.5370, -0.0795,  0.0218, -0.0289,\n",
      "           0.7194, -0.3229, -0.0592,  0.5073,  0.4934,  0.9943, -0.1190,\n",
      "          -0.5835, -0.8644,  0.7544,  0.8416, -0.0648,  0.3499,  0.9676,\n",
      "          -0.7402, -0.5043,  0.5648,  0.7578,  0.0852, -0.9723, -0.9880,\n",
      "          -0.2136, -0.9578, -0.9815,  0.9877,  0.9671, -0.9931, -0.0778,\n",
      "          -0.9888, -0.0325, -0.0528,  0.1901,  0.9570,  0.9428, -0.9956,\n",
      "          -0.9439,  0.9366,  0.2057,  0.9971, -0.7267,  0.9967, -0.9941,\n",
      "          -0.6990, -0.0417,  0.4032,  0.4087,  0.9401, -0.7365, -0.9094,\n",
      "           0.9669]]], grad_fn=<StackBackward>)\n",
      "internal tensor([[[ 2.5632,  2.9125,  3.4075, -2.6981,  2.4286,  3.6326,  3.0216,\n",
      "           3.3046,  2.7713, -0.7934,  3.3037, -3.3278,  3.3027, -2.9005,\n",
      "           0.9177, -3.5410, -0.1219,  3.5936,  3.3472,  3.2590, -3.3298,\n",
      "          -0.6996, -3.5015,  0.9850,  3.4434, -3.0414,  3.0612,  2.0942,\n",
      "          -2.6277, -0.6673,  2.4702,  0.9985,  2.8639, -2.1463, -3.0792,\n",
      "          -2.6705, -2.1400, -3.3600,  3.4014,  3.2376, -3.0830, -2.3119,\n",
      "          -3.3635, -3.2534, -3.2173,  2.7157,  3.4764,  3.5959, -3.0781,\n",
      "          -1.7855,  2.2762,  3.4792,  3.6338, -0.9231,  3.2726, -3.3745,\n",
      "          -0.8710, -2.5821,  3.0934,  2.4297,  1.8175, -0.9577, -1.5933,\n",
      "           3.3814]]], grad_fn=<StackBackward>)\n",
      "embeddings tensor([[12]]) tensor([[[-3.0324, -0.0975, -1.9680, -0.0970, -0.4812, -1.4580,  1.2251,\n",
      "          -1.1200,  1.3694,  0.6405, -0.4566,  0.4407,  1.1410, -0.3053,\n",
      "           0.0115, -1.3521,  0.5448,  0.9594, -0.6021, -0.6822, -1.6165,\n",
      "           1.1013, -0.3487,  0.3094, -1.1405, -1.1823,  1.3351,  0.8254,\n",
      "          -0.9780, -0.9237, -1.1351, -0.6082,  3.9306, -0.7199, -2.5352,\n",
      "          -0.2687,  0.1789, -0.8349, -0.4023,  0.8237, -1.0018,  1.0526,\n",
      "          -0.6286, -1.4548, -1.1193,  0.6461, -0.1345,  0.0142, -1.6690,\n",
      "           0.3042,  0.0559,  0.2067, -0.6621,  0.8858,  1.4594, -0.2683,\n",
      "           2.0687,  0.8940, -0.9505, -0.1569,  1.0939, -0.1523,  0.3925,\n",
      "           1.6769]]], grad_fn=<EmbeddingBackward>)\n",
      "hidden tensor([[[ 0.3462,  0.9719,  0.0803, -0.9769,  0.9537,  0.0018,  0.9840,\n",
      "           0.9910,  0.0041,  0.7360,  0.9678, -0.4598,  0.9835, -0.0203,\n",
      "          -0.3756, -0.9603,  0.6912,  0.8094,  0.9850,  0.8961, -0.8776,\n",
      "          -0.0780, -0.0114,  0.9353,  0.6035, -0.0450,  0.9901,  0.9834,\n",
      "          -0.2608, -0.8915,  0.9483,  0.9529,  0.9865, -0.9948, -0.9666,\n",
      "          -0.9639, -0.9802, -0.0110,  0.0290,  0.0328, -0.9965, -0.9824,\n",
      "          -0.9597, -0.1668, -0.9338,  0.9816,  0.0575,  0.7113, -0.9792,\n",
      "          -0.9597, -0.2663,  0.8676,  0.9254,  0.7421,  0.0165, -0.9914,\n",
      "           0.1234, -0.9888,  0.7169,  0.9663, -0.7371,  0.7313, -0.9813,\n",
      "           0.9174]]], grad_fn=<StackBackward>)\n",
      "internal tensor([[[ 3.0132,  3.5514,  3.6440, -2.8529,  2.3696,  3.9775,  3.3638,\n",
      "           4.0204,  2.0173,  0.9440,  3.8319, -4.0946,  3.8032, -3.3623,\n",
      "          -0.4031, -3.7416,  0.8507,  3.5428,  3.4971,  3.8811, -2.8769,\n",
      "          -0.9462, -3.9513,  1.7046,  3.4749, -3.6599,  3.6518,  2.5876,\n",
      "          -2.7803, -1.5705,  2.6646,  1.8902,  3.8089, -3.0276, -3.4173,\n",
      "          -3.0855, -2.9305, -3.4100,  2.8467,  3.7018, -3.5637, -3.2324,\n",
      "          -3.9006, -3.5561, -3.9323,  3.1042,  3.6895,  3.9397, -2.9097,\n",
      "          -2.0827, -0.7707,  3.9356,  3.7997,  0.9559,  3.7664, -3.7861,\n",
      "           0.1241, -3.3462,  3.8912,  3.1961, -0.9692,  0.9335, -2.4096,\n",
      "           3.7517]]], grad_fn=<StackBackward>)\n",
      "embeddings tensor([[13]]) tensor([[[-0.5658, -0.2898,  1.1420, -1.0184, -0.7968, -1.1995, -1.1828,\n",
      "          -1.7105,  0.5052, -0.8235,  0.2374, -1.4396,  1.6668,  0.0426,\n",
      "           0.8182,  0.4526, -0.3231, -2.6476,  0.5332,  1.4059,  1.2568,\n",
      "           0.0565, -1.1728,  0.4164, -0.2338, -0.3792, -0.2098,  1.1685,\n",
      "          -0.2113,  0.1077, -2.6395, -0.5372, -0.3782, -0.7066,  0.4717,\n",
      "           0.0789, -0.5143,  1.8831, -0.8003, -1.3365, -0.8450, -0.2080,\n",
      "          -1.8512,  0.1921,  1.3696,  1.2322,  0.2811,  0.1578,  0.1426,\n",
      "          -0.1800, -3.3816,  0.5300,  0.8592, -2.7429, -1.2767, -1.4911,\n",
      "          -0.0603, -1.1212, -1.4157,  2.2533, -1.4765, -1.8304, -0.6396,\n",
      "           0.5302]]], grad_fn=<EmbeddingBackward>)\n",
      "hidden tensor([[[ 0.8435,  0.0060,  0.9615, -0.6355,  0.9628,  0.9804,  0.9792,\n",
      "           0.0231,  0.8444,  0.9588,  0.9385, -0.9675,  0.9793, -0.5896,\n",
      "          -0.8782, -0.9728,  0.9279,  0.8472,  0.8912,  0.8422, -0.9709,\n",
      "          -0.9399, -0.9603,  0.9776,  0.2105, -0.9691,  0.9967,  0.9837,\n",
      "          -0.9720, -0.9853,  0.1010,  0.9864,  0.9872, -0.9670, -0.6979,\n",
      "          -0.9936, -0.7214, -0.9945,  0.9869,  0.9803, -0.9591, -0.9916,\n",
      "          -0.0014, -0.9942, -0.9954,  0.9105,  0.9919,  0.0748, -0.0804,\n",
      "          -0.4136,  0.1036,  0.9851,  0.0118, -0.7549,  0.9771, -0.5621,\n",
      "          -0.6563, -0.9912,  0.7289,  0.9588, -0.9498, -0.7459,  0.4655,\n",
      "           0.9748]]], grad_fn=<StackBackward>)\n",
      "internal tensor([[[ 3.8011,  3.6471,  4.5307, -3.3457,  3.0547,  4.7639,  4.1115,\n",
      "           4.7725,  2.3009,  1.9330,  4.0586, -4.6429,  4.6450, -4.1932,\n",
      "          -1.3706, -4.5090,  1.6467,  4.2532,  4.2949,  4.5712, -3.4167,\n",
      "          -1.7617, -4.4198,  2.2449,  4.0592, -4.2981,  4.1126,  2.4114,\n",
      "          -3.5449, -2.5510,  3.4256,  2.5718,  4.7234, -2.0650, -4.1310,\n",
      "          -3.9797, -3.7872, -4.1495,  2.6605,  4.4088, -2.0302, -3.7069,\n",
      "          -4.6544, -4.3869, -4.5446,  3.8607,  4.5169,  4.5078, -3.4209,\n",
      "          -0.4411,  0.6496,  4.5449,  4.4974, -0.9845,  4.5894, -4.2554,\n",
      "          -0.7865, -4.2248,  4.6201,  3.9189, -1.8937, -0.9662,  0.5076,\n",
      "           4.5993]]], grad_fn=<StackBackward>)\n",
      "embeddings tensor([[3]]) tensor([[[-0.6559, -0.0343,  1.5951,  1.4488, -1.1078, -0.2244, -0.6235,\n",
      "          -0.6739, -0.5509, -0.9094,  0.8693,  0.9142, -0.0360,  0.7905,\n",
      "          -1.6887,  0.3698,  1.1998, -0.9877, -1.1061, -0.6844,  0.4230,\n",
      "           1.4559, -3.0252, -0.2928,  0.4527,  0.3427,  0.1866, -0.8121,\n",
      "           1.0700, -2.6635, -0.3005, -0.1753,  0.5376,  1.0990,  1.4162,\n",
      "           1.5433, -1.5807, -0.0269, -0.0531,  2.4943, -0.4877, -1.6126,\n",
      "           0.0772, -0.4801, -0.6144, -0.0208, -1.0218,  1.5257, -0.6421,\n",
      "          -0.3671,  1.0553,  0.2388, -0.0883, -2.2541, -1.3889, -0.7950,\n",
      "          -0.4489, -1.4876,  0.5193,  0.3015,  0.4057,  0.4043,  0.8670,\n",
      "          -0.0969]]], grad_fn=<EmbeddingBackward>)\n",
      "hidden tensor([[[ 0.9938,  0.0068,  0.9731, -0.9954,  0.5484,  0.9664,  0.0012,\n",
      "           0.9891,  0.0161, -0.7559,  0.9604, -0.9944,  0.9861, -0.9856,\n",
      "          -0.9468, -0.9930,  0.9704,  0.9959,  0.9985,  0.0406, -0.0141,\n",
      "          -0.9765, -0.9951, -0.7471,  0.8201, -0.0054,  0.9975,  0.9965,\n",
      "          -0.7283, -0.9652,  0.0208,  0.9976,  0.9952,  0.7101, -0.0105,\n",
      "          -0.9828, -0.9580, -0.6833,  0.9903,  0.9848, -0.9914, -0.1383,\n",
      "          -0.9982, -0.0719, -0.9215,  0.9768,  0.9867,  0.0111, -0.0126,\n",
      "          -0.7177,  0.5321,  0.9047,  0.0298,  0.7569,  0.0477, -0.0018,\n",
      "           0.6524, -0.9889,  0.9926,  0.9806, -0.7101, -0.9010, -0.5268,\n",
      "           0.9845]]], grad_fn=<StackBackward>)\n",
      "internal tensor([[[ 4.7249,  4.5244,  5.2940, -4.1058,  3.8569,  5.4697,  4.7976,\n",
      "           5.6882,  2.9709, -0.9866,  4.9263, -5.4638,  5.4729, -4.9502,\n",
      "          -1.8201, -5.2796,  2.1042,  5.1133,  5.1668,  5.3989, -4.1392,\n",
      "          -2.3886, -5.3706, -0.9666,  4.9300, -4.7446,  5.0336,  3.2506,\n",
      "          -4.4440, -2.0701,  4.1785,  3.5168,  3.4584,  0.8876, -4.8770,\n",
      "          -4.7706, -4.7319, -4.9401,  2.9693,  5.1562, -2.7521, -4.1212,\n",
      "          -5.5765, -5.1349, -5.2306,  4.6682,  5.3222,  5.4171, -4.0929,\n",
      "          -0.9066,  1.5446,  5.4080,  5.2804,  0.9891,  5.2785, -5.1486,\n",
      "           0.7798, -4.9280,  5.4361,  4.8071, -0.8884, -1.4782, -0.5867,\n",
      "           5.4359]]], grad_fn=<StackBackward>)\n",
      "embeddings tensor([[49]]) tensor([[[ 0.3192,  1.0156, -0.2563,  2.2855, -0.6517, -1.9628,  2.1151,\n",
      "          -0.2254,  1.1260,  0.7373,  0.6452, -1.0217,  0.6660,  0.1008,\n",
      "           1.6991, -2.1837,  2.1191, -1.1754, -0.1366,  0.9596, -0.6800,\n",
      "          -0.3315,  0.5925, -0.0740, -1.0576,  0.0191,  0.4289,  0.9538,\n",
      "           1.0837, -0.0324, -0.0220,  1.1576, -0.4120,  1.7086,  0.0647,\n",
      "           1.9207, -0.1480,  0.4461, -0.1330,  0.0322,  0.0097,  2.5572,\n",
      "          -0.6460, -1.7064,  0.1509, -0.3498,  0.3068,  2.2058,  0.5823,\n",
      "          -0.2009, -1.5309,  0.8881, -0.5249,  1.3002,  0.5430, -0.7161,\n",
      "           0.5285,  1.8562,  0.4121, -0.7187, -0.1211, -1.3241, -0.8469,\n",
      "           1.6112]]], grad_fn=<EmbeddingBackward>)\n",
      "hidden tensor([[[ 0.9827,  0.9717,  0.1381, -0.9581,  0.0272,  0.0994,  0.9762,\n",
      "           0.9933,  0.0419,  0.7299,  0.9783, -0.0535,  0.9527, -0.0045,\n",
      "          -0.9699, -0.8584,  0.9793,  0.5720,  0.2078,  0.9642, -0.1919,\n",
      "          -0.9181, -0.8215, -0.9310,  0.0229, -0.0837,  0.0269,  0.9963,\n",
      "          -0.0408, -0.9835,  0.8741,  0.9901,  0.9952,  0.9458, -0.8567,\n",
      "          -0.9553, -0.7568, -0.9745, -0.7064,  0.9381, -0.9964, -0.9903,\n",
      "          -0.2507, -0.9142, -0.9728,  0.1601,  0.9403,  0.0697, -0.3081,\n",
      "           0.6675,  0.2060,  0.6081,  0.9940, -0.7441,  0.9652, -0.9943,\n",
      "           0.9156, -0.9706,  0.9451,  0.0625, -0.8025,  0.7481, -0.8896,\n",
      "           0.2046]]], grad_fn=<StackBackward>)\n",
      "internal tensor([[[ 4.9191,  5.0301,  4.9189, -3.8564,  2.6757,  5.4447,  5.2984,\n",
      "           6.0814,  1.4154,  0.9299,  5.3292, -5.8598,  5.5053, -4.1298,\n",
      "          -2.5183, -5.2024,  2.9658,  4.4773,  3.1784,  5.5581, -4.7736,\n",
      "          -3.0083, -5.6078, -1.6714,  4.2375, -5.1862,  3.9509,  3.3151,\n",
      "          -3.9385, -2.9950,  4.2495,  4.2605,  4.0711,  1.7945, -4.9985,\n",
      "          -4.4007, -5.5648, -5.4541, -0.8983,  4.7317, -3.4313, -4.7670,\n",
      "          -5.9420, -4.9815, -5.5430,  4.0397,  5.3448,  4.6780, -4.0123,\n",
      "           0.8141,  1.8641,  5.4755,  5.7906, -0.9598,  5.1630, -5.5006,\n",
      "           1.5677, -5.2036,  5.6668,  4.8657, -1.1264,  0.9704, -1.4370,\n",
      "           5.4460]]], grad_fn=<StackBackward>)\n",
      "embeddings tensor([[8]]) tensor([[[ 1.4081,  0.1614, -0.2245, -1.6451, -1.0413,  0.8913, -0.6998,\n",
      "           0.5785,  0.4855, -0.6138, -0.1705, -1.2254, -0.2301, -0.8067,\n",
      "           0.7582,  0.8202, -1.8118,  0.7934,  1.3263, -0.3479,  1.1740,\n",
      "           1.2560,  1.2217,  0.2084,  2.1794,  0.4726, -0.7457, -0.4370,\n",
      "          -1.3256,  0.7086, -0.1235, -0.4634,  2.1555,  1.6904, -0.1053,\n",
      "           0.6855, -2.0337, -1.0315,  0.7295,  0.8543, -0.3319, -1.4936,\n",
      "          -0.8765,  0.5158,  1.2592,  0.7479,  0.0573, -1.3736,  0.5419,\n",
      "           0.6389,  2.6216,  0.3787,  0.0410, -0.4354,  1.2542, -1.4570,\n",
      "          -1.5793,  1.2935, -0.1454,  0.0247,  2.7288, -2.3850, -0.3423,\n",
      "          -1.6120]]], grad_fn=<EmbeddingBackward>)\n",
      "hidden tensor([[[ 0.4574,  0.9913,  0.9845, -0.9610,  0.9362,  0.1856,  0.9692,\n",
      "           0.1184,  0.9645,  0.9537,  0.6113, -0.9687,  0.9727, -0.9698,\n",
      "          -0.0200, -0.0407, -0.7483,  0.1745,  0.9875,  0.0091, -0.9496,\n",
      "          -0.9714, -0.9672, -0.9857,  0.0319, -0.9918,  0.4415, -0.6827,\n",
      "          -0.0743, -0.6918,  0.9742,  0.9860,  0.9524,  0.9761, -0.9137,\n",
      "          -0.0997, -0.9469, -0.9961,  0.6839,  0.0876, -0.9978, -0.9964,\n",
      "          -0.0877, -0.9814, -0.1526,  0.9135,  0.1474,  0.9139, -0.0405,\n",
      "           0.9432,  0.8018,  0.0201,  0.0292,  0.7136,  0.4191, -0.0533,\n",
      "           0.9856, -0.3011,  0.9729,  0.9313,  0.4095,  0.6336, -0.9742,\n",
      "           0.5670]]], grad_fn=<StackBackward>)\n",
      "internal tensor([[[ 4.8592,  5.2839,  4.7362, -3.7641,  2.6717,  5.5989,  5.6475,\n",
      "           6.1730,  2.1536,  1.8733,  5.7443, -4.6372,  5.4127, -4.5999,\n",
      "          -1.5840, -5.6050, -0.9715,  4.3824,  3.9755,  4.5076, -5.2389,\n",
      "          -3.7774, -5.9889, -2.5008,  4.9545, -5.9353,  4.1323, -0.8347,\n",
      "          -4.5814, -3.8167,  4.8002,  3.2093,  4.1730,  2.2103, -5.1365,\n",
      "          -4.7027, -5.5074, -5.0132,  0.8402,  4.4425, -3.9956, -5.1204,\n",
      "          -6.4958, -5.4077, -5.8128,  3.9999,  5.1806,  3.1950, -4.1499,\n",
      "           1.7721,  2.5807,  5.9725,  6.4865,  0.8947,  5.2944, -6.0291,\n",
      "           2.4783, -5.2104,  6.0684,  5.1954,  0.4414,  0.7539, -2.1745,\n",
      "           5.1299]]], grad_fn=<StackBackward>)\n",
      "embeddings tensor([[10]]) tensor([[[ 1.3879e-01, -4.6015e-02, -2.0077e+00,  4.9615e-01,  1.2377e+00,\n",
      "          -5.6771e-01, -3.1089e-01, -7.6850e-01,  1.6556e+00,  5.9540e-01,\n",
      "          -1.1345e+00,  9.5186e-01,  1.6497e+00, -7.6620e-01, -9.3762e-01,\n",
      "           9.7456e-01, -1.7397e+00,  1.6149e+00, -9.9715e-01, -8.3959e-01,\n",
      "           5.0026e-01, -1.2410e+00,  8.2856e-01,  1.1889e-01,  1.0145e+00,\n",
      "           1.7419e+00, -8.2784e-01, -4.4623e-01,  4.1200e-02, -3.1373e-01,\n",
      "          -1.2647e+00,  1.5475e+00, -6.5462e-01, -2.3339e+00,  1.6972e-03,\n",
      "          -4.7200e-01,  2.3203e-01,  9.7364e-01, -8.3261e-02, -1.5900e+00,\n",
      "          -9.8287e-01, -7.7342e-01, -2.4727e-02,  2.0228e+00, -8.6072e-01,\n",
      "          -4.5503e-01,  1.3863e+00,  1.1587e+00,  1.3610e+00,  6.8752e-01,\n",
      "           7.7773e-02, -6.5546e-01,  1.0350e+00, -1.8130e-01, -5.2631e-01,\n",
      "           7.7184e-02, -1.9344e-01, -1.3921e+00, -5.5783e-01, -2.9013e-01,\n",
      "           1.0352e+00,  1.6002e+00,  3.8512e-01, -1.2601e+00]]],\n",
      "       grad_fn=<EmbeddingBackward>)\n",
      "hidden tensor([[[ 0.9272,  0.9504,  0.0166, -0.0202,  0.6276,  0.9065,  0.9964,\n",
      "           0.7331,  0.9598,  0.8822,  0.8249, -0.0171,  0.7621, -0.9931,\n",
      "          -0.9285, -0.2230, -0.9241,  0.9363,  0.0319,  0.9868, -0.9914,\n",
      "          -0.9818, -0.6051, -0.9830,  0.9727, -0.9923,  0.1825, -0.9123,\n",
      "          -0.3962, -0.0158,  0.9892,  0.9964,  0.9945,  0.6815, -0.9295,\n",
      "          -0.0273, -0.1019, -0.9353, -0.5788,  0.9855,  0.7548, -0.9839,\n",
      "          -0.0087, -0.9720, -0.9854,  0.9623,  0.0047,  0.9551, -0.9884,\n",
      "           0.9862,  0.9837,  0.8489,  0.1472,  0.9509,  0.9554, -0.9411,\n",
      "           0.9959, -0.9957,  0.0231,  0.0883,  0.7101,  0.7773, -0.9829,\n",
      "           0.9818]]], grad_fn=<StackBackward>)\n",
      "internal tensor([[[ 5.1493,  5.9430,  4.8048, -4.0861,  3.1847,  4.2786,  6.3323,\n",
      "           6.4553,  2.1024,  1.3868,  5.7326, -4.2456,  6.0794, -5.1643,\n",
      "          -1.6500, -6.2203, -1.9122,  4.9351,  4.7262,  5.0673, -5.5564,\n",
      "          -2.7339, -6.2339, -2.3849,  5.4632, -6.1471,  4.2988, -1.5426,\n",
      "          -4.8714, -4.6340,  5.0741,  3.4847,  4.0363,  0.8324, -3.9003,\n",
      "          -4.9091, -5.5652, -1.7538, -0.6611,  4.8185,  0.9863, -5.9326,\n",
      "          -6.6129, -5.6915, -6.2925,  4.4462,  5.9088,  2.2318, -2.8195,\n",
      "           2.5003,  3.2675,  6.4642,  6.5604,  1.8415,  5.9581, -6.3789,\n",
      "           3.1184, -6.0151,  6.3366,  5.6032,  0.8996,  1.0418, -2.4737,\n",
      "           5.4114]]], grad_fn=<StackBackward>)\n",
      "embeddings tensor([[18]]) tensor([[[-0.0752, -0.7588, -1.6132,  1.2593, -1.4339,  0.1969,  0.8674,\n",
      "          -0.4762, -0.4896, -0.4218, -1.5042,  2.0168, -0.2192, -2.6980,\n",
      "          -1.0554,  1.1793, -2.3231, -1.0368,  0.3939,  0.6419,  0.3548,\n",
      "           0.9376, -0.5805,  0.2754,  0.4910,  0.2402, -0.2383,  1.0488,\n",
      "           1.2504, -0.0547,  0.7824,  2.4226, -0.1850,  0.2041, -1.0396,\n",
      "          -2.0562, -0.0175, -0.7197,  0.0305, -0.1436, -0.3020,  1.0036,\n",
      "          -2.1822, -0.3579, -0.2065, -1.0377,  0.5431, -2.2615,  0.1717,\n",
      "           1.1566,  2.0594, -0.6895,  1.7901,  0.5144,  0.1204, -0.7528,\n",
      "          -0.2515, -0.5425, -0.2629,  1.7362, -1.8770, -1.9013, -1.2595,\n",
      "           1.6455]]], grad_fn=<EmbeddingBackward>)\n",
      "hidden tensor([[[ 0.9967,  0.9577,  0.0040, -0.3903,  0.9805,  0.2633,  0.9643,\n",
      "           0.0161,  0.9310,  0.8670,  0.4422, -0.9941,  0.9925, -0.9977,\n",
      "          -0.9743, -0.5063, -0.9847,  0.0147,  0.9611,  0.0297, -0.9961,\n",
      "          -0.8802, -0.0047, -0.9976,  0.0039, -1.0000,  0.9465, -0.9804,\n",
      "          -0.9374, -0.9826,  0.9964,  0.8834,  0.9809, -0.6919, -0.7464,\n",
      "          -0.9765, -0.8050,  0.6544, -0.7617,  0.9461,  0.9480, -0.9968,\n",
      "          -0.0193, -0.8890, -0.9959,  0.9882,  0.9625, -0.6950, -0.0648,\n",
      "           0.9977,  0.9864,  0.4406,  0.9910, -0.7580,  0.0294, -0.9926,\n",
      "           0.9994, -0.9977,  0.9874,  0.9974,  0.9209,  0.9280, -0.9906,\n",
      "           0.9295]]], grad_fn=<StackBackward>)\n",
      "internal tensor([[[ 5.6701,  6.3228,  4.9192, -3.4748,  3.6782,  0.2976,  6.3652,\n",
      "           5.6681,  2.4119,  1.3252,  5.6646, -4.1763,  6.4961, -5.9400,\n",
      "          -2.3586, -5.8323, -2.4367,  4.6904,  5.4434,  5.4613, -5.9166,\n",
      "          -3.3464, -6.3744, -3.3669,  5.3179, -6.8745,  4.5505, -2.3099,\n",
      "          -5.6557, -5.5824,  5.8480,  1.4003,  2.3259, -0.8517, -2.5599,\n",
      "          -5.3464, -6.3299,  0.8118, -1.0005,  4.8421,  1.8210, -5.9156,\n",
      "          -7.1121, -6.0922, -6.1743,  4.8317,  6.1166, -0.8718, -1.4765,\n",
      "           3.4357,  3.5118,  6.8157,  6.6984, -0.9917,  6.4376, -7.0039,\n",
      "           4.1063, -6.6624,  6.7183,  6.1763,  1.6177,  1.6447, -2.7479,\n",
      "           5.8114]]], grad_fn=<StackBackward>)\n",
      "tensor([[-1.8277e-05,  4.5088e-15,  7.6159e-01, -7.6066e-01,  7.6159e-01,\n",
      "          7.6005e-01,  7.6083e-01,  7.6116e-01,  7.6159e-01,  3.1281e-04,\n",
      "          7.6077e-01, -7.6129e-01,  2.3486e-06, -7.6112e-01, -7.6159e-01,\n",
      "         -7.6151e-01,  5.5457e-10,  7.6159e-01,  1.8201e-10,  7.6156e-01,\n",
      "         -7.6159e-01,  7.6147e-01, -7.6159e-01, -7.6135e-01,  7.6159e-01,\n",
      "         -7.6159e-01,  7.6159e-01,  7.6158e-01, -7.6159e-01, -7.6147e-01,\n",
      "          7.6159e-01,  7.6159e-01,  7.6151e-01, -7.6127e-01, -7.6011e-01,\n",
      "         -7.6159e-01,  7.6156e-01, -7.6101e-01,  7.6159e-01,  7.6158e-01,\n",
      "         -7.6034e-01,  7.6158e-01, -7.6159e-01, -7.6157e-01, -7.6141e-01,\n",
      "          7.6159e-01,  7.6159e-01,  7.6137e-01, -7.6159e-01,  5.2241e-04,\n",
      "          5.3630e-06,  7.6159e-01,  7.6159e-01,  7.6129e-01,  7.6159e-01,\n",
      "         -7.6158e-01, -7.6159e-01, -8.4359e-08,  7.6126e-01,  7.6159e-01,\n",
      "         -7.6159e-01,  7.6159e-01,  7.6088e-01,  6.1660e-07],\n",
      "        [ 7.5727e-01,  7.3483e-02,  9.5940e-01, -9.4175e-01,  3.1818e-01,\n",
      "          9.5642e-01,  6.1258e-02,  1.8504e-03,  9.4478e-01,  7.4549e-01,\n",
      "          2.5216e-01, -9.4281e-01,  9.5920e-01, -8.8086e-01,  7.2034e-01,\n",
      "         -7.8863e-01,  9.5807e-01,  5.4860e-01,  9.5494e-01,  9.5970e-01,\n",
      "         -9.0377e-01,  8.7015e-01, -9.5972e-01,  7.1936e-01,  6.8367e-01,\n",
      "         -9.2700e-01,  9.5185e-01,  7.4910e-01, -9.5242e-01, -9.2655e-01,\n",
      "          8.8653e-01, -7.2984e-01,  3.1450e-02, -9.4313e-01, -9.4639e-01,\n",
      "         -7.6409e-01, -3.1798e-01, -9.5697e-01,  9.5592e-01,  9.5836e-01,\n",
      "         -9.4995e-01, -7.3314e-01, -3.6106e-02, -7.6771e-01, -9.2613e-01,\n",
      "          9.3516e-01,  9.6088e-01,  9.2763e-01, -8.9534e-01,  7.4101e-01,\n",
      "          7.5555e-01,  9.4070e-01,  9.4249e-01, -7.5956e-01,  8.9578e-01,\n",
      "         -9.4819e-01, -9.5750e-01, -6.8394e-02,  9.5517e-01,  9.3980e-01,\n",
      "          7.2196e-01, -7.5887e-01,  9.6324e-01,  9.5298e-01]],\n",
      "       grad_fn=<SliceBackward>)\n",
      "tensor([[ 8.6662, -0.4358,  0.5128,  ..., -6.1259, -6.5923, -7.2058],\n",
      "        [ 1.9046, -0.7839,  0.8733,  ..., -7.1164, -7.2802, -8.4637],\n",
      "        [ 1.9256, -0.2307,  1.5203,  ..., -6.4536, -6.1148, -7.0029],\n",
      "        ...,\n",
      "        [-0.5028,  3.3551, -0.7340,  ..., -7.3544, -8.4309, -8.4083],\n",
      "        [ 0.5303,  4.6031, -1.5955,  ..., -8.0778, -9.1023, -9.4724],\n",
      "        [-0.8948,  9.9869, -1.1634,  ..., -7.4539, -7.5221, -8.0176]],\n",
      "       grad_fn=<ViewBackward>)\n",
      "tensor([ 0, 47, 48, 12, 13,  3, 49,  8, 10, 18,  1])\n"
     ]
    }
   ],
   "source": [
    "from model import EncoderCNN, DecoderRNN\n",
    "outputs = decoder.forward2(features, captions[0].unsqueeze(0))\n",
    "print(outputs.view(-1, vocab_size))\n",
    "print(captions[0].unsqueeze(0).view(-1))"
   ]
  },
  {
   "cell_type": "code",
   "execution_count": 24,
   "metadata": {},
   "outputs": [
    {
     "data": {
      "text/plain": [
       "torch.return_types.max(\n",
       "values=tensor([[8.6662, 7.5774, 6.1601, 6.4790, 7.5025, 7.9269, 5.4593, 6.6359, 6.5230,\n",
       "         7.6722, 9.9869]], grad_fn=<MaxBackward0>),\n",
       "indices=tensor([[ 0,  3, 48, 12, 13,  3, 14,  8, 10, 18,  1]]))"
      ]
     },
     "execution_count": 24,
     "metadata": {},
     "output_type": "execute_result"
    }
   ],
   "source": [
    "outputs.max(2)"
   ]
  },
  {
   "cell_type": "code",
   "execution_count": 20,
   "metadata": {},
   "outputs": [
    {
     "name": "stdout",
     "output_type": "stream",
     "text": [
      "tensor([[ 8.6662, -0.4358,  0.5128,  ..., -6.1259, -6.5923, -7.2058],\n",
      "        [ 1.9046, -0.7839,  0.8733,  ..., -7.1164, -7.2802, -8.4637],\n",
      "        [ 1.9256, -0.2307,  1.5203,  ..., -6.4536, -6.1148, -7.0029],\n",
      "        ...,\n",
      "        [-0.5028,  3.3551, -0.7340,  ..., -7.3544, -8.4309, -8.4083],\n",
      "        [ 0.5303,  4.6031, -1.5955,  ..., -8.0778, -9.1023, -9.4724],\n",
      "        [-0.8948,  9.9869, -1.1634,  ..., -7.4539, -7.5221, -8.0176]],\n",
      "       grad_fn=<ViewBackward>)\n",
      "tensor([ 0, 47, 48, 12, 13,  3, 49,  8, 10, 18,  1])\n"
     ]
    }
   ],
   "source": [
    "from model import EncoderCNN, DecoderRNN\n",
    "outputs = decoder(features, captions[0].unsqueeze(0))\n",
    "print(outputs.view(-1, vocab_size))\n",
    "print(captions[0].unsqueeze(0).view(-1))"
   ]
  },
  {
   "cell_type": "code",
   "execution_count": 21,
   "metadata": {},
   "outputs": [
    {
     "data": {
      "text/plain": [
       "torch.return_types.max(\n",
       "values=tensor([[8.6662, 7.5774, 6.1601, 6.4790, 7.5025, 7.9269, 5.4593, 6.6359, 6.5230,\n",
       "         7.6722, 9.9869]], grad_fn=<MaxBackward0>),\n",
       "indices=tensor([[ 0,  3, 48, 12, 13,  3, 14,  8, 10, 18,  1]]))"
      ]
     },
     "execution_count": 21,
     "metadata": {},
     "output_type": "execute_result"
    }
   ],
   "source": [
    "outputs.max(2)"
   ]
  },
  {
   "cell_type": "code",
   "execution_count": 23,
   "metadata": {},
   "outputs": [
    {
     "data": {
      "text/plain": [
       "tensor(8.6662, grad_fn=<SelectBackward>)"
      ]
     },
     "execution_count": 23,
     "metadata": {},
     "output_type": "execute_result"
    }
   ],
   "source": [
    "outputs.view(-1, vocab_size)[0][0]"
   ]
  },
  {
   "cell_type": "code",
   "execution_count": 16,
   "metadata": {},
   "outputs": [],
   "source": [
    "loss = criterion(outputs.view(-1, vocab_size), captions.view(-1))"
   ]
  },
  {
   "cell_type": "code",
   "execution_count": 17,
   "metadata": {},
   "outputs": [
    {
     "data": {
      "text/plain": [
       "tensor(0.4886, grad_fn=<NllLossBackward>)"
      ]
     },
     "execution_count": 17,
     "metadata": {},
     "output_type": "execute_result"
    }
   ],
   "source": [
    "loss"
   ]
  },
  {
   "cell_type": "code",
   "execution_count": 21,
   "metadata": {},
   "outputs": [
    {
     "name": "stderr",
     "output_type": "stream",
     "text": [
      "Clipping input data to the valid range for imshow with RGB data ([0..1] for floats or [0..255] for integers).\n"
     ]
    },
    {
     "data": {
      "text/plain": [
       "<matplotlib.image.AxesImage at 0x7fe72a195220>"
      ]
     },
     "execution_count": 21,
     "metadata": {},
     "output_type": "execute_result"
    },
    {
     "data": {
      "image/png": "[encoded data removed]",
      "text/plain": [
       "<Figure size 432x288 with 1 Axes>"
      ]
     },
     "metadata": {
      "needs_background": "light"
     },
     "output_type": "display_data"
    }
   ],
   "source": [
    "import matplotlib.pyplot as plt\n",
    "%matplotlib inline\n",
    "\n",
    "img = images[8]\n",
    "img = img.swapaxes(0,1)\n",
    "img = img.swapaxes(1,2)\n",
    "plt.imshow(img)"
   ]
  },
  {
   "cell_type": "code",
   "execution_count": 46,
   "metadata": {},
   "outputs": [
    {
     "data": {
      "text/plain": [
       "'<start> a <unk> stop sign across the street from a red car <end>'"
      ]
     },
     "execution_count": 46,
     "metadata": {},
     "output_type": "execute_result"
    }
   ],
   "source": [
    "clean_sentence(captions.numpy()[0])"
   ]
  },
  {
   "cell_type": "code",
   "execution_count": 50,
   "metadata": {},
   "outputs": [
    {
     "data": {
      "text/plain": [
       "'<start> a bathroom . <end> <end> and blue and a blue and a blue and a blue and a blue'"
      ]
     },
     "execution_count": 50,
     "metadata": {},
     "output_type": "execute_result"
    }
   ],
   "source": []
  },
  {
   "cell_type": "code",
   "execution_count": null,
   "metadata": {},
   "outputs": [],
   "source": []
  }
 ],
 "metadata": {
  "anaconda-cloud": {},
  "kernelspec": {
   "display_name": "Python 3",
   "language": "python",
   "name": "python3"
  },
  "language_info": {
   "codemirror_mode": {
    "name": "ipython",
    "version": 3
   },
   "file_extension": ".py",
   "mimetype": "text/x-python",
   "name": "python",
   "nbconvert_exporter": "python",
   "pygments_lexer": "ipython3",
   "version": "3.8.8"
  }
 },
 "nbformat": 4,
 "nbformat_minor": 2
}
